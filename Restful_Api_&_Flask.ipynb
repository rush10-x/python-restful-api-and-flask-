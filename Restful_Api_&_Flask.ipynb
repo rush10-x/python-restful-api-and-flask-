{
  "nbformat": 4,
  "nbformat_minor": 0,
  "metadata": {
    "colab": {
      "provenance": []
    },
    "kernelspec": {
      "name": "python3",
      "display_name": "Python 3"
    },
    "language_info": {
      "name": "python"
    }
  },
  "cells": [
    {
      "cell_type": "markdown",
      "source": [
        "# **THEORY QUESTIONS**"
      ],
      "metadata": {
        "id": "cmoYmvDDbviM"
      }
    },
    {
      "cell_type": "markdown",
      "source": [
        "Q1. What is a RESTful API?\n",
        "- RESTful API stands for Representational State Transfer API. It allows interaction with web services using standard HTTP methods (GET, POST, PUT, DELETE).REST APIs are stateless, meaning they do not store client context on the server, enhancing scalability.They enable CRUD (Create, Read, Update, Delete) operations on resources, making them versatile for various applications.\n",
        "\n",
        "Q2. Explain the concept of API specification?\n",
        "- API specification outlines the structure and behavior of an API.It includes details about endpoints, request and response formats, and supported HTTP methods.Specifications often define authentication methods and error handling procedures.Common formats for API specifications include OpenAPI (formerly Swagger) and RAML, which help in documenting and standardizing APIs.\n",
        "\n",
        "\n",
        "\n",
        "Q3. What is Flask, and why is it popular for building APIs?\n",
        "- Flask is a micro web framework for Python, known for its lightweight and modular design.It is popular for building APIs due to its simplicity, allowing developers to quickly set up applications.Flask provides flexibility, enabling easy integration of extensions and libraries for added functionality.The built-in development server and debugger facilitate rapid development and testing.\n",
        "\n",
        "\n",
        "Q4. What is routing in Flask?\n",
        "- Routing in Flask refers to the process of mapping URLs to specific functions or views.It allows developers to define how different endpoints respond to HTTP requests.Flask uses decorators to associate routes with functions, making it easy to manage and organize code.Routes can include dynamic components, enabling the creation of RESTful endpoints that handle variable data.\n",
        "\n",
        "Q5. How do you create a simple Flask application?\n",
        "- Start by installing Flask using pip. Create a new Python file (e.g., app.py) and set up a basic Flask application. Run the application, and it will be accessible at http://127.0.0.1:5000/.You can expand the application by adding more routes and functionality as needed."
      ],
      "metadata": {
        "id": "mtOiNWRXb5nB"
      }
    },
    {
      "cell_type": "markdown",
      "source": [
        "Q6. HTTP Methods Used in RESTful APIs.\n",
        "- GET: Retrieves data from the server.\n",
        "\n",
        "- POST: Sends data to the server for processing.\n",
        "\n",
        "- PUT: Updates or replaces existing resources.\n",
        "\n",
        "- DELETE: Removes resources from the server.\n",
        "\n",
        "- PATCH: Applies partial modifications to a resource.\n",
        "\n",
        "\n",
        "Q7.  What is the purpose of the @app.route() decorator in Flask?\n",
        "- Define Endpoints: Maps a URL to a specific function in the Flask application.\n",
        "\n",
        "Specify HTTP Methods: Allows the function to handle specific HTTP methods (e.g., GET, POST).\n",
        "\n",
        "Dynamic Routing: Supports variable parts in the URL, enabling dynamic content generation.\n",
        "\n",
        "Q8. What is the difference between GET and POST HTTP methods?\n",
        "- GET:\n",
        "\n",
        "Data is appended to the URL as query parameters.\n",
        "Generally used for retrieving data.\n",
        "Not suitable for sensitive information due to visibility in browser history.\n",
        "- POST:\n",
        "\n",
        "Data is sent in the request body, not visible in the URL.\n",
        "Used for submitting data to be processed (e.g., form submissions).\n",
        "More secure for sensitive data and larger payloads.\n",
        "\n",
        "\n",
        "Q9. How do you handle errors in Flask APIs?\n",
        "- Custom Error Handlers: Use @app.errorhandler to define how to respond to specific HTTP errors (e.g., 404, 500).\n",
        "\n",
        "- Middleware: Implement middleware to catch exceptions and return appropriate error responses.\n",
        "\n",
        "- Logging: Log errors for debugging and monitoring purposes.\n",
        "\n",
        "\n",
        "Q10. How do you connect Flask to a SQL database?\n",
        "- Using SQLAlchemy: Integrate SQLAlchemy as an ORM to manage database interactions.\n",
        "Define models representing database tables.\n",
        "Use session management for transactions.\n",
        "Direct Database Connection: Use libraries like sqlite3 or psycopg2 for direct connections to databases.\n",
        "Establish a connection and execute SQL queries directly.\n",
        "Configuration: Set up database URI in Flask configuration to connect to the desired database.\n"
      ],
      "metadata": {
        "id": "-9kBbhHzyQyj"
      }
    },
    {
      "cell_type": "markdown",
      "source": [
        "Q11. What is the role of Flask-SQLAlchemy?\n",
        "- Flask-SQLAlchemy is an extension that integrates SQLAlchemy with Flask.\n",
        "It provides a high-level ORM (Object Relational Mapping) interface, simplifying database interactions.It allows for easier management of database connections and sessions.\n",
        "Developers can define models as Python classes, making it intuitive to work with database records.\n",
        "\n",
        "\n",
        "Q12.What are Flask blueprints, and how are they useful?\n",
        "- Blueprints are a way to organize Flask applications into modular components.\n",
        "They allow developers to define routes, views, and other functionalities in separate files.\n",
        "Blueprints promote code reusability and cleaner project structure.\n",
        "They can be registered with different URL prefixes, enabling better organization of application routes.\n",
        "Blueprints support nesting, allowing for hierarchical organization of related functionalities.\n",
        "\n",
        "\n",
        "\n",
        "Q13.What is the purpose of Flask's request object?\n",
        "- The request object is used to handle incoming HTTP requests in Flask.\n",
        "It provides access to various request data, including form inputs, query parameters, and headers.\n",
        "Developers can use it to retrieve data sent by clients in a structured manner.\n",
        "The request object also includes methods for handling file uploads and accessing cookies.\n",
        "\n",
        "\n",
        "\n",
        "Q14.How do you create a RESTful API endpoint using Flask?\n",
        "- Define a route using Flask's @app.route() decorator, specifying the desired HTTP methods (GET, POST, etc.).\n",
        "Implement a function that handles the request and processes any input data.\n",
        "Return data in a structured format, typically JSON, using Flask's jsonify() function.\n",
        "\n",
        "\n",
        "Q15.What is the purpose of Flask's jsonify() function?\n",
        "- The jsonify() function is used to convert Python dictionaries or lists into JSON responses.\n",
        "It automatically sets the correct content type for the response (application/json).\n",
        "The function ensures that the data is serialized correctly for JSON format.\n",
        "It simplifies the process of returning JSON data from Flask views, making it more efficient and less error-prone."
      ],
      "metadata": {
        "id": "w_YNbITw4Sk3"
      }
    },
    {
      "cell_type": "markdown",
      "source": [
        "Q16. Explain Flask’s url_for() function?\n",
        "- The url_for() function generates a URL to a specific function based on the function's name.\n",
        "It allows for dynamic URL creation, which helps avoid hardcoding URLs in the application.\n",
        "This function can also accept parameters, making it easy to create URLs with query strings or path variables.\n",
        "\n",
        "\n",
        "\n",
        "\n",
        "\n",
        "Q17. How does Flask handle static files (CSS, JavaScript, etc.)?\n",
        "- Flask serves static files from a directory named static by default.\n",
        "The URL for accessing static files follows the pattern /static/<filename>.\n",
        "This allows easy inclusion of CSS, JavaScript, and image files in web applications.\n",
        "\n",
        "\n",
        "\n",
        "Q18. What is an API specification, and how does it help in building a Flask API?\n",
        "- An API specification defines the structure, endpoints, request/response formats, and authentication methods of an API.\n",
        "It serves as a blueprint for developers, ensuring consistency and clarity in API design.\n",
        "In Flask, having a clear API specification helps streamline the development process, making it easier to implement and test endpoints.\n",
        "It also aids in communication between frontend and backend teams, ensuring that both sides understand the expected data formats and behaviors.\n",
        "\n",
        "\n",
        "\n",
        "Q19. What are HTTP status codes, and why are they important in a Flask API?\n",
        "- HTTP status codes indicate the result of a client's request to the server.\n",
        "They provide essential feedback to clients about the success or failure of their requests.\n",
        "Common status codes include:\n",
        "200 OK: The request was successful.\n",
        "404 Not Found: The requested resource could not be found.\n",
        "500 Internal Server Error: An error occurred on the server.\n",
        "Using appropriate status codes in a Flask API enhances user experience by clearly communicating the outcome of requests."
      ],
      "metadata": {
        "id": "lO6teU8Z5Q67"
      }
    },
    {
      "cell_type": "markdown",
      "source": [
        "Q20. How do you handle POST requests in Flask?\n",
        "- Import Flask: First, ensure you have Flask imported in your application.\n",
        "\n",
        "- Create a Flask Application: Initialize your Flask app.\n",
        "\n",
        "- Define a Route: Use the @app.route decorator to define a route that will handle the POST request.\n",
        "\n",
        "- Access Request Data: Use request from flask to access the data sent in the POST request.\n",
        "\n",
        "- Return a Response: After processing the request, return a response.\n",
        "\n",
        "\n",
        "\n",
        "Q21.How would you secure a Flask API?\n",
        "- Use HTTPS: Always serve your API over HTTPS to encrypt data in transit.\n",
        "\n",
        "- Authentication: Implement token-based authentication (e.g., JWT) or API keys to verify user identity.\n",
        "\n",
        "- Authorization: Use role-based access control (RBAC) to restrict access to certain endpoints based on user roles.\n",
        "\n",
        "- Input Validation: Validate and sanitize all incoming data to prevent injection attacks.\n",
        "\n",
        "- Rate Limiting: Implement rate limiting to prevent abuse and mitigate denial-of-service attacks.\n",
        "\n",
        "- CORS Configuration: Set up Cross-Origin Resource Sharing (CORS) to control which domains can access your API.\n",
        "\n",
        "- Logging and Monitoring: Log access and errors, and monitor for unusual activity to detect potential threats.\n",
        "\n",
        "- Error Handling: Customize error messages to avoid exposing sensitive information.\n",
        "\n",
        "- Security Headers: Set HTTP security headers (e.g., Content-Security-Policy, X-Frame-Options) to protect against common vulnerabilities.\n",
        "\n",
        "- Keep Dependencies Updated: Regularly update Flask and its dependencies to patch known vulnerabilities.\n",
        "\n",
        "\n",
        "Q22. What is the significance of the Flask-RESTful extension?\n",
        "- Simplified API Development: It provides a simple and intuitive way to create RESTful APIs in Flask, reducing boilerplate code and making it easier to manage routes and resources.\n",
        "\n",
        "- Resource-Based Approach: Flask-RESTful encourages a resource-oriented design, allowing developers to define resources as classes, which can encapsulate related functionality and data.\n",
        "\n",
        "- Automatic Input Parsing: It automatically handles input parsing and validation, making it easier to work with JSON data and form data.\n",
        "\n",
        "- Built-in Support for HTTP Methods: The extension provides built-in support for common HTTP methods (GET, POST, PUT, DELETE), streamlining the implementation of CRUD operations.\n",
        "\n",
        "- Error Handling: Flask-RESTful includes mechanisms for consistent error handling and response formatting, improving the API's usability and maintainability.\n",
        "\n",
        "- Integration with Flask: It seamlessly integrates with Flask's existing features, allowing developers to leverage Flask's capabilities while building RESTful services.\n",
        "\n",
        "\n",
        "Q23. What is the role of Flask’s session object?\n",
        "- User State Management: It allows you to store information about a user (e.g., login status, preferences) that persists across multiple requests during a session.\n",
        "\n",
        "- Client-Side Storage: The session data is stored on the client side (typically in a cookie) and is signed to prevent tampering. This means the server can trust the data sent back by the client.\n",
        "\n",
        "- Dictionary-Like Interface: The session object behaves like a dictionary, allowing you to easily set, get, and delete session variables.\n",
        "\n",
        "- Temporary Data: It is useful for storing temporary data that should not be stored in a database, such as flash messages or form data.\n",
        "\n",
        "- Security: Flask provides built-in mechanisms to secure session data, including signing and encryption, to protect sensitive information."
      ],
      "metadata": {
        "id": "ddsTA_Wr6EHw"
      }
    },
    {
      "cell_type": "markdown",
      "source": [
        "# **PRACTICAL QUESTIONS**"
      ],
      "metadata": {
        "id": "rdO2akCY7oHe"
      }
    },
    {
      "cell_type": "code",
      "source": [
        "# Q1.  How do you create a basic Flask application.\n",
        "from flask import Flask\n",
        "\n",
        "# Initialize the Flask application\n",
        "app = Flask(__name__)\n",
        "\n",
        "# Define a route for the homepage\n",
        "@app.route('/')\n",
        "def home():\n",
        "    return \"Welcome to your first Flask app!\"\n",
        "\n",
        "# Run the Flask app\n",
        "if __name__ == '__main__':\n",
        "    app.run(debug=True)"
      ],
      "metadata": {
        "id": "DpQ016zd-T4X"
      },
      "execution_count": null,
      "outputs": []
    },
    {
      "cell_type": "code",
      "source": [
        "# Q2. How do you serve static files like images or CSS in Flask.\n",
        "from flask import Flask, render_template\n",
        "\n",
        "app = Flask(__name__)\n",
        "\n",
        "@app.route('/')\n",
        "def home():\n",
        "    return render_template('index.html')\n",
        "\n",
        "if __name__ == '__main__':\n",
        "    app.run(debug=True)"
      ],
      "metadata": {
        "id": "JTzf1GiqcKoI"
      },
      "execution_count": null,
      "outputs": []
    },
    {
      "cell_type": "code",
      "source": [
        "# Q3.  How do you define different routes with different HTTP methods in Flask.\n",
        "# Basic Route with a Single HTTP Method\n",
        "from flask import Flask, request\n",
        "\n",
        "app = Flask(__name__)\n",
        "\n",
        "@app.route('/')\n",
        "def home():\n",
        "    return \"This is a GET request\""
      ],
      "metadata": {
        "id": "IyYFumGlcRPX"
      },
      "execution_count": null,
      "outputs": []
    },
    {
      "cell_type": "code",
      "source": [
        "# Route with Multiple HTTP Methods\n",
        "@app.route('/submit', methods=['GET', 'POST'])\n",
        "def submit():\n",
        "    if request.method == 'POST':\n",
        "        return \"This is a POST request\"\n",
        "    else:\n",
        "        return \"This is a GET request\""
      ],
      "metadata": {
        "id": "DSk5FJqldjAZ"
      },
      "execution_count": null,
      "outputs": []
    },
    {
      "cell_type": "code",
      "source": [
        "# Routes for Specific HTTP Methods\n",
        "@app.route('/update', methods=['PUT'])\n",
        "def update():\n",
        "    return \"This is a PUT request\"\n",
        "\n",
        "@app.route('/delete', methods=['DELETE'])\n",
        "def delete():\n",
        "    return \"This is a DELETE request\""
      ],
      "metadata": {
        "id": "E_uToNt_dm5d"
      },
      "execution_count": null,
      "outputs": []
    },
    {
      "cell_type": "code",
      "source": [
        "# Handle Data in HTTP Methods\n",
        "@app.route('/data', methods=['POST'])\n",
        "def handle_data():\n",
        "    data = request.json  # Parse JSON data from the request body\n",
        "    return f\"Data received: {data}\", 200"
      ],
      "metadata": {
        "id": "dLv2LMJDdtdU"
      },
      "execution_count": null,
      "outputs": []
    },
    {
      "cell_type": "code",
      "source": [
        "# Q4.  How do you render HTML templates in Flask.\n",
        "from flask import Flask, render_template\n",
        "\n",
        "app = Flask(__name__)\n",
        "\n",
        "@app.route('/')\n",
        "def home():\n",
        "    return render_template('index.html')# html file is rendered\n",
        "\n",
        "if __name__ == '__main__':\n",
        "    app.run(debug=True)"
      ],
      "metadata": {
        "id": "pIXRRgtWcVuU"
      },
      "execution_count": null,
      "outputs": []
    },
    {
      "cell_type": "code",
      "source": [
        "# Q5.  How can you generate URLs for routes in Flask using url_for.\n",
        "from flask import Flask, url_for\n",
        "\n",
        "app = Flask(__name__)\n",
        "\n",
        "@app.route('/')\n",
        "def home():\n",
        "    return \"Welcome to the Homepage!\"\n",
        "\n",
        "@app.route('/about')\n",
        "def about():\n",
        "    return \"About Us Page!\"\n",
        "\n",
        "# Generating URLs\n",
        "with app.test_request_context():\n",
        "    print(url_for('home'))\n",
        "    print(url_for('about'))"
      ],
      "metadata": {
        "id": "Fmoqdkwgc7nJ"
      },
      "execution_count": null,
      "outputs": []
    },
    {
      "cell_type": "code",
      "source": [
        " # Q6. How do you handle forms in Flask\n",
        " # Create an HTML Form\n",
        "# <form action=\"/submit\" method=\"POST\">\n",
        "#     <label for=\"name\">Name:</label>\n",
        "#     <input type=\"text\" id=\"name\" name=\"name\" required>\n",
        "#     <button type=\"submit\">Submit</button>\n",
        "# </form>\n",
        "\n",
        "# Define a Route to Handle the Form Data\n",
        "from flask import Flask, request, render_template\n",
        "\n",
        "app = Flask(__name__)\n",
        "\n",
        "@app.route('/form')\n",
        "def form():\n",
        "    return render_template('form.html')\n",
        "\n",
        "@app.route('/submit', methods=['POST'])\n",
        "def submit():\n",
        "    name = request.form['name']\n",
        "    return f\"Hello, {name}!\""
      ],
      "metadata": {
        "id": "lGBtTPeYd40t"
      },
      "execution_count": null,
      "outputs": []
    },
    {
      "cell_type": "code",
      "source": [
        "# Q7. How can you validate form data in Flask?\n",
        "from flask import Flask, request, jsonify\n",
        "\n",
        "app = Flask(__name__)\n",
        "\n",
        "@app.route('/submit', methods=['POST'])\n",
        "def submit():\n",
        "    name = request.form.get('name')\n",
        "    email = request.form.get('email')\n",
        "\n",
        "\n",
        "    if not name or not email:\n",
        "        return jsonify({\"error\": \"Name and email are required\"}), 400\n",
        "    if \"@\" not in email:\n",
        "        return jsonify({\"error\": \"Invalid email format\"}), 400\n",
        "\n",
        "    return jsonify({\"message\": f\"Welcome, {name}!\"})\n",
        "\n"
      ],
      "metadata": {
        "id": "LCeb30UNeFaZ"
      },
      "execution_count": null,
      "outputs": []
    },
    {
      "cell_type": "code",
      "source": [
        "# Q8. How do you manage sessions in Flask?\n",
        "from flask import Flask, session, request, jsonify\n",
        "\n",
        "app = Flask(__name__)\n",
        "\n",
        "\n",
        "app.secret_key = 'your_secret_key'\n",
        "\n",
        "\n",
        "@app.route('/set_session', methods=['POST'])\n",
        "def set_session():\n",
        "    username = request.json.get('username')\n",
        "    if not username:\n",
        "        return jsonify({\"error\": \"Username is required\"}), 400\n",
        "    session['username'] = username\n",
        "    return jsonify({\"message\": f\"Session created for {username}!\"}), 200\n",
        "\n",
        "\n",
        "@app.route('/get_session', methods=['GET'])\n",
        "def get_session():\n",
        "    username = session.get('username')\n",
        "    if not username:\n",
        "        return jsonify({\"error\": \"No active session\"}), 404\n",
        "    return jsonify({\"username\": username}), 200\n",
        "\n",
        "\n",
        "@app.route('/clear_session', methods=['POST'])\n",
        "def clear_session():\n",
        "    session.clear()\n",
        "    return jsonify({\"message\": \"Session cleared successfully!\"}), 200\n",
        "\n",
        "if __name__ == '__main__':\n",
        "    app.run(debug=True)"
      ],
      "metadata": {
        "id": "FOrrYw5NeXtQ"
      },
      "execution_count": null,
      "outputs": []
    },
    {
      "cell_type": "code",
      "source": [
        "# Q9. How do you redirect to a different route in Flask?\n",
        "from flask import Flask, redirect, url_for\n",
        "\n",
        "app = Flask(__name__)\n",
        "\n",
        "\n",
        "@app.route('/')\n",
        "def home():\n",
        "    return \"Welcome to the Home Page!\"\n",
        "\n",
        "\n",
        "@app.route('/about')\n",
        "def about():\n",
        "    return \"This is the About Page!\"\n",
        "\n",
        "\n",
        "@app.route('/redirect-home')\n",
        "def redirect_home():\n",
        "    return redirect(url_for('home'))\n",
        "\n",
        "\n",
        "@app.route('/redirect-about')\n",
        "def redirect_about():\n",
        "    return redirect(url_for('about'))\n",
        "\n",
        "\n",
        "@app.route('/profile/<username>')\n",
        "def profile(username):\n",
        "    return f\"Welcome to {username}'s Profile!\"\n",
        "\n",
        "@app.route('/redirect-to-profile')\n",
        "def redirect_to_profile():\n",
        "    return redirect(url_for('profile', username='Anuj'))\n",
        "\n",
        "if __name__ == '__main__':\n",
        "    app.run(debug=True)"
      ],
      "metadata": {
        "id": "rz9cGvP5ej9D"
      },
      "execution_count": null,
      "outputs": []
    },
    {
      "cell_type": "code",
      "source": [
        "# Q10. How do you handle errors in Flask (e.g, 404)?\n",
        "from flask import Flask, render_template, jsonify\n",
        "\n",
        "app = Flask(__name__)\n",
        "\n",
        "\n",
        "@app.route('/')\n",
        "def home():\n",
        "    return \"Welcome to the Home Page!\"\n",
        "\n",
        "\n",
        "@app.route('/sample')\n",
        "def sample():\n",
        "    return \"This is the Sample Page!\"\n",
        "\n",
        "\n",
        "@app.errorhandler(404)\n",
        "def not_found_error(e):\n",
        "    return jsonify({\"error\": \"Page not found\"}), 404\n",
        "\n",
        "\n",
        "@app.errorhandler(500)\n",
        "def internal_server_error(e):\n",
        "    return jsonify({\"error\": \"Internal Server Error occurred\"}), 500\n",
        "\n",
        "if __name__ == '__main__':\n",
        "    app.run(debug=True)"
      ],
      "metadata": {
        "id": "-_KpX83vevRo"
      },
      "execution_count": null,
      "outputs": []
    },
    {
      "cell_type": "code",
      "source": [
        "# Q11. How do you structure a Flask app using Blueprints?\n",
        "from flask import Blueprint, render_template\n",
        "\n",
        "\n",
        "user_bp = Blueprint('user_bp', __name__, template_folder='../templates')\n",
        "\n",
        "\n",
        "@user_bp.route('/<username>')\n",
        "def user_profile(username):\n",
        "    return render_template('user.html', username=username)"
      ],
      "metadata": {
        "id": "g_XZBaw5e5Ax"
      },
      "execution_count": null,
      "outputs": []
    },
    {
      "cell_type": "code",
      "source": [
        "# Q12. How do you define a custom Jinja filter in Flask?\n",
        "from flask import Flask, render_template\n",
        "\n",
        "app = Flask(__name__)\n",
        "\n",
        "\n",
        "@app.template_filter('reverse')\n",
        "def reverse_string(value):\n",
        "    \"\"\"Reverses the given string.\"\"\"\n",
        "    return value[::-1]\n",
        "\n",
        "\n",
        "@app.route('/')\n",
        "def home():\n",
        "\n",
        "    return render_template('example.html', message=\"Flask Filters\")\n",
        "\n",
        "if __name__ == '__main__':\n",
        "    app.run(debug=True)\n"
      ],
      "metadata": {
        "id": "aqoEi6aVfAHv"
      },
      "execution_count": null,
      "outputs": []
    },
    {
      "cell_type": "code",
      "source": [
        "# Q13. How can you redirect with query parameters in Flask?\n",
        "from flask import Flask, redirect, url_for\n",
        "\n",
        "app = Flask(__name__)\n",
        "\n",
        "@app.route('/')\n",
        "def home():\n",
        "    return \"Welcome to the Home Page!\"\n",
        "\n",
        "@app.route('/redirect')\n",
        "def redirect_with_params():\n",
        "\n",
        "    return redirect(url_for('home', q='Flask', page=1))\n",
        "\n",
        "@app.route('/home')\n",
        "def home_with_params():\n",
        "\n",
        "    return \"Welcome with parameters!\""
      ],
      "metadata": {
        "id": "-6tVzOT3fJPJ"
      },
      "execution_count": null,
      "outputs": []
    },
    {
      "cell_type": "code",
      "source": [
        "# Q14. How do you return JSON responses in Flask?\n",
        "from flask import Flask, jsonify, request\n",
        "\n",
        "app = Flask(__name__)\n",
        "\n",
        "\n",
        "@app.route('/simple-json', methods=['GET'])\n",
        "def simple_json():\n",
        "    return jsonify({\n",
        "        \"message\": \"Hello, this is a JSON response!\",\n",
        "        \"status\": \"success\"\n",
        "    })\n",
        "\n",
        "\n",
        "@app.route('/greet', methods=['POST'])\n",
        "def greet_user():\n",
        "    data = request.json\n",
        "    name = data.get('name', 'Guest')\n",
        "    return jsonify({\n",
        "        \"message\": f\"Hello, {name}!\",\n",
        "        \"status\": \"success\"\n",
        "    }), 200"
      ],
      "metadata": {
        "id": "62zxwanqfVK1"
      },
      "execution_count": null,
      "outputs": []
    },
    {
      "cell_type": "code",
      "source": [
        "# Q15. How do you capture URL parameters in Flask?\n",
        "from flask import Flask\n",
        "\n",
        "app = Flask(__name__)\n",
        "\n",
        "# Route with a dynamic URL parameter\n",
        "@app.route('/user/<username>')\n",
        "def user_profile(username):\n",
        "\n",
        "    return f\"Hello, {username}! Welcome to your profile.\"\n",
        "\n",
        "\n",
        "@app.route('/product/<category>/<int:product_id>')\n",
        "def product_details(category, product_id):\n",
        "\n",
        "    return f\"Category: {category}, Product ID: {product_id}\"\n",
        "\n",
        "if __name__ == '__main__':\n",
        "    app.run(debug=True)"
      ],
      "metadata": {
        "id": "hIA_1jmWfiLj"
      },
      "execution_count": null,
      "outputs": []
    }
  ]
}